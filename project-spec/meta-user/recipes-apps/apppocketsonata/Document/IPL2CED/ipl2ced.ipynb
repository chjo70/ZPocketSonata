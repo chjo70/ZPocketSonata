{
 "cells": [
  {
   "cell_type": "markdown",
   "id": "ac73f65d-2409-4c8e-b5d9-828375eb31f6",
   "metadata": {},
   "source": [
    "# SONATA 용 IPL 엑셀 파일을 APECS 위협 라이브러리로 변환\n",
    "* 버젼 : 1.0\n",
    "* 날짜 : 2022-11-18"
   ]
  },
  {
   "cell_type": "code",
   "execution_count": 1,
   "id": "82dd0999",
   "metadata": {},
   "outputs": [],
   "source": [
    "import xlwings as xw\n",
    "import pandas as pd\n",
    "import numpy as np\n",
    "import matplotlib.pyplot as plt\n",
    "import matplotlib.colors as mcl\n",
    "import seaborn as sns\n",
    "\n",
    "from datetime import datetime\n",
    "import sqlite3\n",
    "\n",
    "import random\n",
    "\n",
    "# Machine learning \n",
    "from sklearn.model_selection import cross_validate\n",
    "from sklearn.decomposition import PCA\n",
    "\n",
    "\n",
    "pd.set_option('display.max_columns',None)\n",
    "#pd.set_option('display.max_rows',None)\n",
    "\n",
    "plt.rcParams['axes.unicode_minus'] = False\n",
    "plt.rcParams['font.family'] = 'NanumGothic'\n"
   ]
  },
  {
   "cell_type": "code",
   "execution_count": 23,
   "id": "cfac4ac3-0bd9-43d6-b700-6b6e4ac23dec",
   "metadata": {},
   "outputs": [],
   "source": [
    "def MakeRadarTable( n_df, radarname ):\n",
    "    global platform_index\n",
    "    global radar_index\n",
    "    \n",
    "    elnot_df = n_df['EmitterNotation'].unique()\n",
    "    elnot_df = np.sort( elnot_df )\n",
    "    \n",
    "    for index, elnot in enumerate(elnot_df):\n",
    "        radar_index = radar_index + 1\n",
    "        \n",
    "        rows = n_df[ n_df['EmitterNotation'] == elnot ]        \n",
    "        \n",
    "        # 레이더 정보 저장\n",
    "        elnot_rep = 'A' + '{0:03d}'.format( radar_index ) + 'A'\n",
    "        #sql = f\"INSERT INTO RADAR(RADAR_INDEX, ELNOT, NICK_NAME, PRIORITY, STATUS, ACCEPTED, PRIMARY_PLATFORM, DATE_LAST_UPDATED, DATE_LAST_REVIEWED, DATE_ACTIVATED, DATE_INACTIVATED, TIME_INACTIVATED, COMBINED_DATE_LAST_UPDATED ) VALUES ( {radar_index}, '{elnot}', '{radarname}_{radar_index}', {rows.iloc[0].RadarPriority}, 'ACTIVE', 1, 1, '', '', '', '', 200, '' )\"\n",
    "        sql = f\"INSERT INTO RADAR(RADAR_INDEX, ELNOT, NICK_NAME, PRIORITY, STATUS, ACCEPTED, PRIMARY_PLATFORM, DATE_LAST_UPDATED, DATE_LAST_REVIEWED, DATE_ACTIVATED, DATE_INACTIVATED, TIME_INACTIVATED, COMBINED_DATE_LAST_UPDATED ) VALUES ( {radar_index}, '{elnot_rep}', '{radarname}_{radar_index}', {rows.iloc[0].RadarPriority}, 'ACTIVE', 1, 1, '', '', '', '', 200, '' )\"\n",
    "        #print( sql );\n",
    "        cur.execute( sql )\n",
    "        \n",
    "        # 레이더 커멘트 정보 저장\n",
    "        sql = f\"INSERT INTO RADAR_COMMENTS (RADAR_INDEX, TITLE, DATE_CREATED, DATE_LAST_UPDATED, COMMENTS) VALUES ( 1, '{radarname} 커멘트#{radar_index}', '', '', '커멘트를 작성하면 됩니다.')\"\n",
    "        #print( sql )\n",
    "        cur.execute( sql )\n",
    "        \n",
    "        # 레이더 플레폼 저장\n",
    "        platform_name = rows.iloc[0][ ['Platform 1 Name', 'Platform 2 Name', 'Platform 3 Name', 'Platform 4 Name', 'Platform 5 Name'] ]\n",
    "        #print( type(platform_name[0]) )\n",
    "        \n",
    "        for i in range(5):\n",
    "            if platform_name[i] != '-' and platform_name[i] != '':\n",
    "                platform_index = platform_index + 1\n",
    "                \n",
    "                sql = f\"INSERT INTO ASSOC_PLATFORM(RADAR_INDEX, PLATFORM_INDEX) VALUES ( {index+1}, {platform_index} )\"\n",
    "                #print( sql )\n",
    "                cur.execute( sql )\n",
    "                \n",
    "                sql = f\"INSERT INTO PLATFORM(RADAR_INDEX, PLATFORM_INDEX, PLATFORM) VALUES ( {index+1}, {platform_index}, '{platform_name[i]}' )\"\n",
    "                #print( sql )\n",
    "                cur.execute( sql )\n",
    "                \n",
    "    return index"
   ]
  },
  {
   "cell_type": "code",
   "execution_count": 24,
   "id": "3aeee6b0-db6c-4231-84ad-31dad3d80f74",
   "metadata": {},
   "outputs": [],
   "source": [
    "def MakeRadarModeTable( n_df, radarname ):\n",
    "    global radar_index\n",
    "    global radarmode_index\n",
    "\n",
    "    global rfSeq\n",
    "    global rfIndex\n",
    "\n",
    "    global priSeq\n",
    "    global priIndex\n",
    "    \n",
    "    coRadarModeIndex = 0\n",
    "\n",
    "    elnot_df = n_df['EmitterNotation'].unique()\n",
    "    elnot_df = np.sort( elnot_df )\n",
    "\n",
    "    for index, value in enumerate(elnot_df):\n",
    "        rows = n_df[ n_df['EmitterNotation'] == value ]\n",
    "        radarmode_name = rows.loc[:,['RadarMode Name']]\n",
    "        \n",
    "        radar_index = radar_index + 1\n",
    "        for idx, row in rows.iterrows():\n",
    "            coRadarModeIndex = coRadarModeIndex + 1\n",
    "            radarmode_index = radarmode_index + 1\n",
    "            \n",
    "            # 레이더모드-사이클 정보 저장\n",
    "            #sql = f\"INSERT INTO RADARMODE_LIFECYCLE(RADAR_INDEX, RADARMODE_INDEX, RADARMODE_NAME ) VALUES ({radar_index}, {radarmode_index}, '{row['RadarMode Name']}' )\"\n",
    "            sql = f\"INSERT INTO RADARMODE_LIFECYCLE(RADAR_INDEX, RADARMODE_INDEX, RADARMODE_NAME ) VALUES ({radar_index}, {radarmode_index}, '레이더명_{radarmode_index}' )\"\n",
    "            #print( sql )\n",
    "            cur.execute( sql )\n",
    "                        \n",
    "            # 레이더모드 정보 저장\n",
    "            sql = f\"INSERT INTO RADARMODE VALUES ({radarmode_index}, '{nowStr}', '', '', '', '', {int(row['Pulse Type'])}, {row['Category']}, 0.0, 0.0, {int(row['RF Type'])}, {row['FreqLow(MHz)']}, {row['FreqHigh(MHz)']}, {row['CenterFreq(MHz)']-5}, {row['CenterFreq(MHz)']+5}, \\\n",
    "0, {row['SwitchLevel']}, {row['PatternType']}, {row['PatternPeriodLow(usec)']}, {row['PatternPeriodHigh(usec)']}, 0.0, {int(row['PRI Type'])}, {row['PRILow(usec)']}, {row['PRIHigh(usec)']}, {row['CenterPRI(usec)']-5}, {row['CenterPRI(usec)']+5}, 0, {row['Stagger/Switch Level']}, {row['PRI Pattern Type']}, {row['PRI PatternPeriodLow(usec)']}, {row['PRI PatternPeriodHigh(usec)']}, \\\n",
    "0, 0, {row['PW Low(usec)']}, {row['PW High(usec)']}, {int(row['AS Type'])}, {int(row['AS Low(usec)'])}, {int(row['AS High(usec)'])}, 0, 0.0, 0.0, 'ZZ', {row['RadarModePriority']}, 1 )\"            \n",
    "            #print( sql )\n",
    "            cur.execute( sql )\n",
    "            \n",
    "            # 주파수 레벨값 저장\n",
    "            bRFSequenceName = True\n",
    "            for i in range( int( row['SwitchLevel'] ) ):                \n",
    "                rfIndex = rfIndex + 1\n",
    "                \n",
    "                filterLowStr = f\"Dwell Freq{i+1} Low(MHz)\"\n",
    "                filterHighStr = f\"Dwell Freq{i+1} High(MHz)\"\n",
    "                sql = f\"INSERT INTO RADAR_RF_VALUES (RADARMODE_INDEX, RF_MIN, RF_MAX ) VALUES ( {radarmode_index}, {row[filterLowStr]}, {row[filterHighStr]} )\"\n",
    "                #print( filterLowStr, filterHighStr, sql )\n",
    "                cur.execute( sql )\n",
    "                \n",
    "                if bRFSequenceName == True:\n",
    "                    bRFSequenceName = False\n",
    "                    rfSeq = rfSeq + 1\n",
    "                    sql = f\"INSERT INTO RADAR_RF_SEQUENCE_NAME (RADARMODE_INDEX, RF_SEQ_ID, RF_SEQ_NAME ) VALUES ( {radarmode_index}, {rfSeq}, 'RF 시퀀스#{rfSeq}' )\"\n",
    "                    #print( sql )\n",
    "                    cur.execute( sql )\n",
    "                \n",
    "                sql = f\"INSERT INTO RADAR_RF_SEQUENCE (RADARMODE_INDEX, RF_SEQ_ID, RF_INDEX) VALUES ( {radarmode_index}, {rfSeq}, {rfIndex} )\"\n",
    "                #print( sql )\n",
    "                cur.execute( sql )            \n",
    "            \n",
    "            # PRI 레벨값 저장\n",
    "            bPriSequenceName = True\n",
    "            for i in range( int( row['Stagger/Switch Level'] ) ):                \n",
    "                priIndex = priIndex + 1\n",
    "                \n",
    "                filterLowStr = f\"SD Value{i+1} Low(MHz)\"\n",
    "                filterHighStr = f\"SD Value{i+1} High(MHz)\"\n",
    "                sql = f\"INSERT INTO RADAR_PRI_VALUES (RADARMODE_INDEX, PRI_MIN, PRI_MAX, DWELL_DURATION_MIN, DWELL_DURATION_MAX, PULSES_PER_DWELL, TRANSITION_MIN, TRANSITION_MAX) VALUES ( {radarmode_index}, {row[filterLowStr]}, {row[filterHighStr]}, 0.0, 0.0, 100, 0.0, 0.0 )\"\n",
    "                #print( filterLowStr, filterHighStr, sql )\n",
    "                cur.execute( sql )\n",
    "\n",
    "                if bPriSequenceName == True:\n",
    "                    bPriSequenceName = False\n",
    "                    priSeq = priSeq + 1\n",
    "                    sql = f\"INSERT INTO RADAR_PRI_SEQUENCE_NAME (RADARMODE_INDEX, PRI_SEQ_ID, PRI_SEQ_NAME ) VALUES ( {radarmode_index}, {priSeq}, 'PRI 시퀀스#{priSeq}' )\"\n",
    "                    #print( sql )\n",
    "                    cur.execute( sql )\n",
    "                \n",
    "                sql = f\"INSERT INTO RADAR_PRI_SEQUENCE (RADARMODE_INDEX, PRI_SEQ_ID, PRI_INDEX) VALUES ( {radarmode_index}, {priSeq}, {priIndex} )\"\n",
    "                #print( sql )\n",
    "                cur.execute( sql )\n",
    "                \n",
    "    return coRadarModeIndex"
   ]
  },
  {
   "cell_type": "markdown",
   "id": "37bb254e",
   "metadata": {},
   "source": [
    "# 엑셀용 IPL 데이터 불러오기"
   ]
  },
  {
   "cell_type": "code",
   "execution_count": 8,
   "id": "7d7162f0",
   "metadata": {
    "scrolled": true
   },
   "outputs": [],
   "source": [
    "raw_xl = xw.Book( 'TestLibrary_시험용(헤더 수정).xlsx')\n",
    "\n",
    "sh = raw_xl.sheets(1)\n",
    "\n",
    "# 위협 라이브로리 로딩\n",
    "n_df_1 = sh.range('A1').options(pd.DataFrame, expand='table').value\n",
    "n_df_1.insert( 4, 'Delta Freq(MHz)', n_df_1['FreqHigh(MHz)'] - n_df_1['FreqLow(MHz)'] )\n",
    "n_df_1.insert( 4, 'CenterFreq(MHz)', ( n_df_1['FreqHigh(MHz)'] + n_df_1['FreqLow(MHz)'] ) / 2.0 )\n",
    "\n",
    "n_df_1.insert( 13, 'Delta PRI(usec)', n_df_1['PRIHigh(usec)'] - n_df_1['PRILow(usec)'] )\n",
    "n_df_1.insert( 13, 'CenterPRI(usec)', ( n_df_1['PRIHigh(usec)'] + n_df_1['PRILow(usec)'] ) / 2.0 )\n",
    "\n",
    "n_df_1.insert( 24, 'Delta PW(usec)', n_df_1['PW High(usec)'] - n_df_1['PW Low(usec)'] )\n",
    "n_df_1.insert( 24, 'CenterPW(usec)', ( n_df_1['PW High(usec)'] + n_df_1['PW Low(usec)'] ) / 2.0 )\n",
    "\n",
    "#n_df_1.index = n_df_1.index.map( lambda x : int(x) )"
   ]
  },
  {
   "cell_type": "code",
   "execution_count": 9,
   "id": "83a2758d-3573-40b8-9ea1-35eac725a6bc",
   "metadata": {},
   "outputs": [],
   "source": [
    "raw_xl = xw.Book( '사용자 라이브러리.xlsx')\n",
    "\n",
    "sh = raw_xl.sheets(1)\n",
    "\n",
    "# 위협 라이브로리 로딩\n",
    "n_df_2 = sh.range('A1').options(pd.DataFrame, expand='table').value\n",
    "n_df_2.insert( 4, 'Delta Freq(MHz)', n_df_2['FreqHigh(MHz)'] - n_df_2['FreqLow(MHz)'] )\n",
    "n_df_2.insert( 4, 'CenterFreq(MHz)', ( n_df_2['FreqHigh(MHz)'] + n_df_2['FreqLow(MHz)'] ) / 2.0 )\n",
    "\n",
    "n_df_2.insert( 13, 'Delta PRI(usec)', n_df_2['PRIHigh(usec)'] - n_df_2['PRILow(usec)'] )\n",
    "n_df_2.insert( 13, 'CenterPRI(usec)', ( n_df_2['PRIHigh(usec)'] + n_df_2['PRILow(usec)'] ) / 2.0 )\n",
    "\n",
    "n_df_2.insert( 24, 'Delta PW(usec)', n_df_2['PW High(usec)'] - n_df_2['PW Low(usec)'] )\n",
    "n_df_2.insert( 24, 'CenterPW(usec)', ( n_df_2['PW High(usec)'] + n_df_2['PW Low(usec)'] ) / 2.0 )"
   ]
  },
  {
   "cell_type": "markdown",
   "id": "ae11ae7c",
   "metadata": {},
   "source": [
    "# SQLITE 연동"
   ]
  },
  {
   "cell_type": "code",
   "execution_count": 10,
   "id": "fd31ff6c-e551-44c4-ab06-d1f1311ef2d2",
   "metadata": {},
   "outputs": [],
   "source": [
    "# DB 생성\n",
    "#conn = sqlite3.connect( \"cedeob.sqlite3\", isolation_level=None )\n",
    "conn = sqlite3.connect( \"cedeob.sqlite3\" )\n",
    "\n",
    "# 커서 연결\n",
    "cur = conn.cursor()"
   ]
  },
  {
   "cell_type": "markdown",
   "id": "4ca668d5-d3a3-48e8-a220-d01b149f806e",
   "metadata": {},
   "source": [
    "# 레이더/레이더모드 관련 테이블 삭제"
   ]
  },
  {
   "cell_type": "code",
   "execution_count": 25,
   "id": "25d67385-2d2e-49cc-89dd-f3c268c3ad01",
   "metadata": {},
   "outputs": [
    {
     "name": "stdout",
     "output_type": "stream",
     "text": [
      "현재 시간은 2023-09-17 14:26:19 입니다.\n",
      "\n",
      "\n",
      "===> 테이블을 정상적으로 삭제 했습니다.\n",
      "===> 자동 증가를 초기화 했습니다.\n"
     ]
    }
   ],
   "source": [
    "now = datetime.now()\n",
    "nowStr = now.strftime( '%Y-%m-%d %H:%M:%S' )\n",
    "\n",
    "print( f\"현재 시간은 {nowStr} 입니다.\\n\\n\" )\n",
    "\n",
    "try:\n",
    "    cur.execute( 'delete from RADAR_RF_SEQUENCE_NAME;')\n",
    "    cur.execute( 'delete from RADAR_RF_SEQUENCE;')\n",
    "    cur.execute( 'delete from RADAR_RF_VALUES;')\n",
    "    cur.execute( 'delete from RADAR_PRI_SEQUENCE_NAME;')\n",
    "    cur.execute( 'delete from RADAR_PRI_SEQUENCE;')\n",
    "    cur.execute( 'delete from RADAR_PRI_VALUES;')\n",
    "\n",
    "    cur.execute( 'delete from RADARMODE;')\n",
    "                  \n",
    "    cur.execute( 'delete from RADAR_COMMENTS;')\n",
    "\n",
    "    cur.execute( 'delete from RADAR_RF_SPOT_VALUES;')\n",
    "    cur.execute( 'delete from RADAR_PRI_SPOT_VALUES;')\n",
    "\n",
    "    cur.execute( 'delete from RADARMODE_LIFECYCLE;')\n",
    "\n",
    "    cur.execute( 'delete from ASSOC_PLATFORM;')\n",
    "    cur.execute( 'delete from PLATFORM;')\n",
    "\n",
    "    cur.execute( 'delete from RADAR;')\n",
    "    \n",
    "    print( \"===> 테이블을 정상적으로 삭제 했습니다.\" )\n",
    "    \n",
    "    cur.execute( \"update sqlite_sequence set seq=0 where name='RADAR_COMMENTS';\")\n",
    "    cur.execute( \"update sqlite_sequence set seq=0 where name='RADAR_RF_VALUES';\")\n",
    "    \n",
    "    cur.execute( \"update sqlite_sequence set seq=0 where name='RADAR_RF_SEQUENCE';\")\n",
    "    \n",
    "    cur.execute( \"update sqlite_sequence set seq=0 where name='RADAR_PRI_VALUES';\")\n",
    "    cur.execute( \"update sqlite_sequence set seq=0 where name='RADAR_PRI_SEQUENCE';\")\n",
    "    \n",
    "    print( \"===> 자동 증가를 초기화 했습니다.\" )\n",
    "\n",
    "    conn.commit()\n",
    "    \n",
    "except Exception as exception:\n",
    "    print( exception )\n",
    "    print( '에러 발생함' )    \n"
   ]
  },
  {
   "cell_type": "markdown",
   "id": "be92796b",
   "metadata": {},
   "source": [
    "# 레이더 테이블 생성"
   ]
  },
  {
   "cell_type": "code",
   "execution_count": 26,
   "id": "39325287-6b9b-427b-890e-8c0418d58543",
   "metadata": {},
   "outputs": [
    {
     "name": "stdout",
     "output_type": "stream",
     "text": [
      "===> 정상적으로 레이더 278개를 변환했으며, 사용자 레이더 62개를 추가했습니다.\n"
     ]
    }
   ],
   "source": [
    "try:\n",
    "    platform_index = 0\n",
    "    radar_index = 0;\n",
    "    \n",
    "    coStandaraLibrary = MakeRadarTable( n_df_1, '레이더' )\n",
    "    coUserLibrary = MakeRadarTable( n_df_2, '사용자' )\n",
    "\n",
    "    conn.commit()\n",
    "\n",
    "    print( '===> 정상적으로 레이더 {}개를 변환했으며, 사용자 레이더 {}개를 추가했습니다.'.format( coStandaraLibrary, coUserLibrary ) )\n",
    "        \n",
    "except Exception as exception:\n",
    "    print( exception )\n",
    "    print( '에러 발생함' )"
   ]
  },
  {
   "cell_type": "markdown",
   "id": "f67b1d76-0490-4cf5-8794-525ef0e0a0d6",
   "metadata": {},
   "source": [
    "# 레이더모드(라이프싸이클, 레이더모드 정보) 테이블 생성"
   ]
  },
  {
   "cell_type": "code",
   "execution_count": 27,
   "id": "5350e0b6-6997-4201-a0ba-06c9e823e8c4",
   "metadata": {},
   "outputs": [
    {
     "name": "stdout",
     "output_type": "stream",
     "text": [
      "===> 정상적으로 레이더 모드 2000개를 변환했고, 사용자 레이더 모드 68개를 변환했습니다.\n",
      "\n",
      "(base) E:\\APECS\\Dev\\PocketSONATA\\dev_\\Document\\IPL2CED>echo off \n",
      "\f",
      "        1개 파일이 복사되었습니다.\n",
      "        1개 파일이 복사되었습니다.\n",
      "        1개 파일이 복사되었습니다.\n"
     ]
    }
   ],
   "source": [
    "try:\n",
    "    rfSeq = 0\n",
    "    rfIndex = 0\n",
    "    priSeq = 0\n",
    "    priIndex = 0\n",
    "    radar_index = 0\n",
    "    radarmode_index = 0\n",
    "    \n",
    "    coStandaraLibrary = MakeRadarModeTable( n_df_1, \"레이더\" )\n",
    "    coUserLibrary = MakeRadarModeTable( n_df_2, \"사용자\" )\n",
    "\n",
    "    conn.commit()            \n",
    "    print( '===> 정상적으로 레이더 모드 {}개를 변환했고, 사용자 레이더 모드 {}개를 변환했습니다.'.format( coStandaraLibrary, coUserLibrary ) )\n",
    "\n",
    "except Exception as exception:\n",
    "    print( exception )\n",
    "    print( '에러 발생 !' )   \n",
    "    \n",
    "! copySqlite.bat    "
   ]
  },
  {
   "cell_type": "markdown",
   "id": "c374d650-63a3-4a76-96a8-7f5628a277bc",
   "metadata": {},
   "source": [
    " # 사용자 레이더 모드 생성"
   ]
  },
  {
   "cell_type": "code",
   "execution_count": 86,
   "id": "0fb16509-f569-4dd4-bf8e-0275773aeee1",
   "metadata": {},
   "outputs": [],
   "source": [
    "def GenerateRadarModeFREQ( n, user_radarmode_index, nowStr ):\n",
    "    \n",
    "    # FIXED 일때\n",
    "    if n == 0:\n",
    "        sqlString = f\"INSERT INTO RADARMODE VALUES ({user_radarmode_index}, '{nowStr}', '', '', '', '', 1, 0.0, 0.0, {n}, 17490, 17510, 17500, 17500, 0, 0, 0, 0, 0, 0.0, \"\n",
    "       \n",
    "    # HOPPING 일때    \n",
    "    elif n == 1:\n",
    "        sqlString = f\"INSERT INTO RADARMODE VALUES ({user_radarmode_index}, '{nowStr}', '', '', '', '', 1, 0.0, 0.0, {n}, 1000, 2000, 1500, 1500, 0, 32, 0, 0, 0, 0.0, \"\n",
    "        \n",
    "    # AGILE 일때    \n",
    "    elif n == 2:\n",
    "        sqlString = f\"INSERT INTO RADARMODE VALUES ({user_radarmode_index}, '{nowStr}', '', '', '', '', 1, 0.0, 0.0, {n}, 500, 18000, 7500, 7500, 0, 0, 0, 0, 0, 0.0, \"\n",
    "        \n",
    "    # PATTERN 일때\n",
    "    else:\n",
    "        sqlString = f\"INSERT INTO RADARMODE VALUES ({user_radarmode_index}, '{nowStr}', '', '', '', '', 1, 0.0, 0.0, 3, 500, 18000, 7500, 7500, 0, 0, 0, 0, 0, 0.0, \"\n",
    "    \n",
    "    return sqlString"
   ]
  },
  {
   "cell_type": "code",
   "execution_count": 87,
   "id": "d3d24a24-da86-4717-a118-4c8b264fd2f0",
   "metadata": {},
   "outputs": [],
   "source": [
    "def GenerateRadarModePRI(n, sqlString ):\n",
    "    \n",
    "    # STABLE PRI 일때\n",
    "    if n == 0:\n",
    "        sqlString += f\"{n}, 100, 100, 100, 100, 0, 0, 0, 0, 0, 0, 0, 0, 200, 0, 0, 0, 0, 0.0, 0.0, 'ZZ', 100, 0, 0, 1 )\"\n",
    "       \n",
    "    # JITTER PRI 일때    \n",
    "    elif n == 1:\n",
    "        sqlString += f\"{n}, 450, 550, 500, 500, 0, 0, 0, 0, 0, 0, 0, 0, 200, 0, 0, 0, 0, 0.0, 0.0, 'ZZ', 100, 0, 0, 1 )\"\n",
    "        \n",
    "    # D&S PRI 일때    \n",
    "    elif n == 2:\n",
    "        sqlString += f\"{n}, 100, 100, 95, 105, 0, 0, 0, 0, 0, 0, 0, 0, 200, 0, 0, 0, 0, 0.0, 0.0, 'ZZ', 100, 0, 0, 1 )\"        \n",
    "        \n",
    "    # Stagger PRI 일때    \n",
    "    elif n == 3:\n",
    "        sqlString += f\"{n}, 100, 100, 95, 105, 0, 0, 0, 0, 0, 0, 0, 0, 200, 0, 0, 0, 0, 0.0, 0.0, 'ZZ', 100, 0, 0, 1 )\"                \n",
    "        \n",
    "    # Pattern PRI 일때    \n",
    "    elif n == 4:\n",
    "        sqlString += f\"{n}, 100, 100, 95, 105, 0, 0, 0, 0, 0, 0, 0, 0, 200, 0, 0, 0, 0, 0.0, 0.0, 'ZZ', 100, 0, 0, 1 )\"                        \n",
    "        \n",
    "    else:\n",
    "        sqlString += f\"{n}, 100, 100, 95, 105, 0, 0, 0, 0, 0, 0, 0, 0, 200, 0, 0, 0, 0, 0.0, 0.0, 'ZZ', 100, 0, 0, 1 )\"    \n",
    "    \n",
    "    return sqlString"
   ]
  },
  {
   "cell_type": "code",
   "execution_count": 106,
   "id": "ac916264-02fe-416c-bf9c-3f607f5e6b85",
   "metadata": {},
   "outputs": [
    {
     "name": "stdout",
     "output_type": "stream",
     "text": [
      "INSERT INTO RADAR(RADAR_INDEX, ELNOT, NICK_NAME, PRIORITY, STATUS, ACCEPTED, PRIMARY_PLATFORM, DATE_LAST_UPDATED, DATE_LAST_REVIEWED, TIME_INACTIVATED) VALUES ( 280, 'X001A', '레이더_280', 100, 'ACTIVE', 1, 1, '', '', 200 )\n",
      "INSERT INTO RADAR(RADAR_INDEX, ELNOT, NICK_NAME, PRIORITY, STATUS, ACCEPTED, PRIMARY_PLATFORM, DATE_LAST_UPDATED, DATE_LAST_REVIEWED, TIME_INACTIVATED) VALUES ( 281, 'X002A', '레이더_281', 100, 'ACTIVE', 1, 1, '', '', 200 )\n",
      "INSERT INTO RADAR(RADAR_INDEX, ELNOT, NICK_NAME, PRIORITY, STATUS, ACCEPTED, PRIMARY_PLATFORM, DATE_LAST_UPDATED, DATE_LAST_REVIEWED, TIME_INACTIVATED) VALUES ( 282, 'X003A', '레이더_282', 100, 'ACTIVE', 1, 1, '', '', 200 )\n",
      "INSERT INTO RADAR(RADAR_INDEX, ELNOT, NICK_NAME, PRIORITY, STATUS, ACCEPTED, PRIMARY_PLATFORM, DATE_LAST_UPDATED, DATE_LAST_REVIEWED, TIME_INACTIVATED) VALUES ( 283, 'X004A', '레이더_283', 100, 'ACTIVE', 1, 1, '', '', 200 )\n",
      "INSERT INTO RADAR(RADAR_INDEX, ELNOT, NICK_NAME, PRIORITY, STATUS, ACCEPTED, PRIMARY_PLATFORM, DATE_LAST_UPDATED, DATE_LAST_REVIEWED, TIME_INACTIVATED) VALUES ( 284, 'X005A', '레이더_284', 100, 'ACTIVE', 1, 1, '', '', 200 )\n",
      "INSERT INTO RADAR(RADAR_INDEX, ELNOT, NICK_NAME, PRIORITY, STATUS, ACCEPTED, PRIMARY_PLATFORM, DATE_LAST_UPDATED, DATE_LAST_REVIEWED, TIME_INACTIVATED) VALUES ( 285, 'X006A', '레이더_285', 100, 'ACTIVE', 1, 1, '', '', 200 )\n",
      "INSERT INTO RADAR(RADAR_INDEX, ELNOT, NICK_NAME, PRIORITY, STATUS, ACCEPTED, PRIMARY_PLATFORM, DATE_LAST_UPDATED, DATE_LAST_REVIEWED, TIME_INACTIVATED) VALUES ( 286, 'X007A', '레이더_286', 100, 'ACTIVE', 1, 1, '', '', 200 )\n",
      "INSERT INTO RADAR(RADAR_INDEX, ELNOT, NICK_NAME, PRIORITY, STATUS, ACCEPTED, PRIMARY_PLATFORM, DATE_LAST_UPDATED, DATE_LAST_REVIEWED, TIME_INACTIVATED) VALUES ( 287, 'X008A', '레이더_287', 100, 'ACTIVE', 1, 1, '', '', 200 )\n",
      "INSERT INTO RADAR(RADAR_INDEX, ELNOT, NICK_NAME, PRIORITY, STATUS, ACCEPTED, PRIMARY_PLATFORM, DATE_LAST_UPDATED, DATE_LAST_REVIEWED, TIME_INACTIVATED) VALUES ( 288, 'X009A', '레이더_288', 100, 'ACTIVE', 1, 1, '', '', 200 )\n",
      "INSERT INTO RADAR(RADAR_INDEX, ELNOT, NICK_NAME, PRIORITY, STATUS, ACCEPTED, PRIMARY_PLATFORM, DATE_LAST_UPDATED, DATE_LAST_REVIEWED, TIME_INACTIVATED) VALUES ( 289, 'X010A', '레이더_289', 100, 'ACTIVE', 1, 1, '', '', 200 )\n",
      "INSERT INTO RADAR(RADAR_INDEX, ELNOT, NICK_NAME, PRIORITY, STATUS, ACCEPTED, PRIMARY_PLATFORM, DATE_LAST_UPDATED, DATE_LAST_REVIEWED, TIME_INACTIVATED) VALUES ( 290, 'X011A', '레이더_290', 100, 'ACTIVE', 1, 1, '', '', 200 )\n",
      "INSERT INTO RADAR(RADAR_INDEX, ELNOT, NICK_NAME, PRIORITY, STATUS, ACCEPTED, PRIMARY_PLATFORM, DATE_LAST_UPDATED, DATE_LAST_REVIEWED, TIME_INACTIVATED) VALUES ( 291, 'X012A', '레이더_291', 100, 'ACTIVE', 1, 1, '', '', 200 )\n",
      "INSERT INTO RADAR(RADAR_INDEX, ELNOT, NICK_NAME, PRIORITY, STATUS, ACCEPTED, PRIMARY_PLATFORM, DATE_LAST_UPDATED, DATE_LAST_REVIEWED, TIME_INACTIVATED) VALUES ( 292, 'X013A', '레이더_292', 100, 'ACTIVE', 1, 1, '', '', 200 )\n",
      "INSERT INTO RADAR(RADAR_INDEX, ELNOT, NICK_NAME, PRIORITY, STATUS, ACCEPTED, PRIMARY_PLATFORM, DATE_LAST_UPDATED, DATE_LAST_REVIEWED, TIME_INACTIVATED) VALUES ( 293, 'X014A', '레이더_293', 100, 'ACTIVE', 1, 1, '', '', 200 )\n",
      "INSERT INTO RADAR(RADAR_INDEX, ELNOT, NICK_NAME, PRIORITY, STATUS, ACCEPTED, PRIMARY_PLATFORM, DATE_LAST_UPDATED, DATE_LAST_REVIEWED, TIME_INACTIVATED) VALUES ( 294, 'X015A', '레이더_294', 100, 'ACTIVE', 1, 1, '', '', 200 )\n",
      "INSERT INTO RADAR(RADAR_INDEX, ELNOT, NICK_NAME, PRIORITY, STATUS, ACCEPTED, PRIMARY_PLATFORM, DATE_LAST_UPDATED, DATE_LAST_REVIEWED, TIME_INACTIVATED) VALUES ( 295, 'X016A', '레이더_295', 100, 'ACTIVE', 1, 1, '', '', 200 )\n",
      "INSERT INTO RADAR(RADAR_INDEX, ELNOT, NICK_NAME, PRIORITY, STATUS, ACCEPTED, PRIMARY_PLATFORM, DATE_LAST_UPDATED, DATE_LAST_REVIEWED, TIME_INACTIVATED) VALUES ( 296, 'X017A', '레이더_296', 100, 'ACTIVE', 1, 1, '', '', 200 )\n",
      "INSERT INTO RADAR(RADAR_INDEX, ELNOT, NICK_NAME, PRIORITY, STATUS, ACCEPTED, PRIMARY_PLATFORM, DATE_LAST_UPDATED, DATE_LAST_REVIEWED, TIME_INACTIVATED) VALUES ( 297, 'X018A', '레이더_297', 100, 'ACTIVE', 1, 1, '', '', 200 )\n",
      "INSERT INTO RADAR(RADAR_INDEX, ELNOT, NICK_NAME, PRIORITY, STATUS, ACCEPTED, PRIMARY_PLATFORM, DATE_LAST_UPDATED, DATE_LAST_REVIEWED, TIME_INACTIVATED) VALUES ( 298, 'X019A', '레이더_298', 100, 'ACTIVE', 1, 1, '', '', 200 )\n",
      "INSERT INTO RADAR(RADAR_INDEX, ELNOT, NICK_NAME, PRIORITY, STATUS, ACCEPTED, PRIMARY_PLATFORM, DATE_LAST_UPDATED, DATE_LAST_REVIEWED, TIME_INACTIVATED) VALUES ( 299, 'X020A', '레이더_299', 100, 'ACTIVE', 1, 1, '', '', 200 )\n",
      "INSERT INTO RADAR(RADAR_INDEX, ELNOT, NICK_NAME, PRIORITY, STATUS, ACCEPTED, PRIMARY_PLATFORM, DATE_LAST_UPDATED, DATE_LAST_REVIEWED, TIME_INACTIVATED) VALUES ( 300, 'X021A', '레이더_300', 100, 'ACTIVE', 1, 1, '', '', 200 )\n",
      "INSERT INTO RADAR(RADAR_INDEX, ELNOT, NICK_NAME, PRIORITY, STATUS, ACCEPTED, PRIMARY_PLATFORM, DATE_LAST_UPDATED, DATE_LAST_REVIEWED, TIME_INACTIVATED) VALUES ( 301, 'X022A', '레이더_301', 100, 'ACTIVE', 1, 1, '', '', 200 )\n",
      "INSERT INTO RADAR(RADAR_INDEX, ELNOT, NICK_NAME, PRIORITY, STATUS, ACCEPTED, PRIMARY_PLATFORM, DATE_LAST_UPDATED, DATE_LAST_REVIEWED, TIME_INACTIVATED) VALUES ( 302, 'X023A', '레이더_302', 100, 'ACTIVE', 1, 1, '', '', 200 )\n",
      "INSERT INTO RADAR(RADAR_INDEX, ELNOT, NICK_NAME, PRIORITY, STATUS, ACCEPTED, PRIMARY_PLATFORM, DATE_LAST_UPDATED, DATE_LAST_REVIEWED, TIME_INACTIVATED) VALUES ( 303, 'X024A', '레이더_303', 100, 'ACTIVE', 1, 1, '', '', 200 )\n",
      "INSERT INTO RADAR(RADAR_INDEX, ELNOT, NICK_NAME, PRIORITY, STATUS, ACCEPTED, PRIMARY_PLATFORM, DATE_LAST_UPDATED, DATE_LAST_REVIEWED, TIME_INACTIVATED) VALUES ( 304, 'X025A', '레이더_304', 100, 'ACTIVE', 1, 1, '', '', 200 )\n",
      "INSERT INTO RADAR(RADAR_INDEX, ELNOT, NICK_NAME, PRIORITY, STATUS, ACCEPTED, PRIMARY_PLATFORM, DATE_LAST_UPDATED, DATE_LAST_REVIEWED, TIME_INACTIVATED) VALUES ( 305, 'X026A', '레이더_305', 100, 'ACTIVE', 1, 1, '', '', 200 )\n",
      "INSERT INTO RADAR(RADAR_INDEX, ELNOT, NICK_NAME, PRIORITY, STATUS, ACCEPTED, PRIMARY_PLATFORM, DATE_LAST_UPDATED, DATE_LAST_REVIEWED, TIME_INACTIVATED) VALUES ( 306, 'X027A', '레이더_306', 100, 'ACTIVE', 1, 1, '', '', 200 )\n",
      "INSERT INTO RADAR(RADAR_INDEX, ELNOT, NICK_NAME, PRIORITY, STATUS, ACCEPTED, PRIMARY_PLATFORM, DATE_LAST_UPDATED, DATE_LAST_REVIEWED, TIME_INACTIVATED) VALUES ( 307, 'X028A', '레이더_307', 100, 'ACTIVE', 1, 1, '', '', 200 )\n",
      "INSERT INTO RADAR(RADAR_INDEX, ELNOT, NICK_NAME, PRIORITY, STATUS, ACCEPTED, PRIMARY_PLATFORM, DATE_LAST_UPDATED, DATE_LAST_REVIEWED, TIME_INACTIVATED) VALUES ( 308, 'X029A', '레이더_308', 100, 'ACTIVE', 1, 1, '', '', 200 )\n",
      "INSERT INTO RADAR(RADAR_INDEX, ELNOT, NICK_NAME, PRIORITY, STATUS, ACCEPTED, PRIMARY_PLATFORM, DATE_LAST_UPDATED, DATE_LAST_REVIEWED, TIME_INACTIVATED) VALUES ( 309, 'X030A', '레이더_309', 100, 'ACTIVE', 1, 1, '', '', 200 )\n",
      "INSERT INTO RADAR(RADAR_INDEX, ELNOT, NICK_NAME, PRIORITY, STATUS, ACCEPTED, PRIMARY_PLATFORM, DATE_LAST_UPDATED, DATE_LAST_REVIEWED, TIME_INACTIVATED) VALUES ( 310, 'X031A', '레이더_310', 100, 'ACTIVE', 1, 1, '', '', 200 )\n",
      "INSERT INTO RADAR(RADAR_INDEX, ELNOT, NICK_NAME, PRIORITY, STATUS, ACCEPTED, PRIMARY_PLATFORM, DATE_LAST_UPDATED, DATE_LAST_REVIEWED, TIME_INACTIVATED) VALUES ( 311, 'X032A', '레이더_311', 100, 'ACTIVE', 1, 1, '', '', 200 )\n",
      "INSERT INTO RADAR(RADAR_INDEX, ELNOT, NICK_NAME, PRIORITY, STATUS, ACCEPTED, PRIMARY_PLATFORM, DATE_LAST_UPDATED, DATE_LAST_REVIEWED, TIME_INACTIVATED) VALUES ( 312, 'X033A', '레이더_312', 100, 'ACTIVE', 1, 1, '', '', 200 )\n",
      "INSERT INTO RADAR(RADAR_INDEX, ELNOT, NICK_NAME, PRIORITY, STATUS, ACCEPTED, PRIMARY_PLATFORM, DATE_LAST_UPDATED, DATE_LAST_REVIEWED, TIME_INACTIVATED) VALUES ( 313, 'X034A', '레이더_313', 100, 'ACTIVE', 1, 1, '', '', 200 )\n",
      "INSERT INTO RADAR(RADAR_INDEX, ELNOT, NICK_NAME, PRIORITY, STATUS, ACCEPTED, PRIMARY_PLATFORM, DATE_LAST_UPDATED, DATE_LAST_REVIEWED, TIME_INACTIVATED) VALUES ( 314, 'X035A', '레이더_314', 100, 'ACTIVE', 1, 1, '', '', 200 )\n",
      "INSERT INTO RADAR(RADAR_INDEX, ELNOT, NICK_NAME, PRIORITY, STATUS, ACCEPTED, PRIMARY_PLATFORM, DATE_LAST_UPDATED, DATE_LAST_REVIEWED, TIME_INACTIVATED) VALUES ( 315, 'X036A', '레이더_315', 100, 'ACTIVE', 1, 1, '', '', 200 )\n",
      "INSERT INTO RADAR(RADAR_INDEX, ELNOT, NICK_NAME, PRIORITY, STATUS, ACCEPTED, PRIMARY_PLATFORM, DATE_LAST_UPDATED, DATE_LAST_REVIEWED, TIME_INACTIVATED) VALUES ( 316, 'X037A', '레이더_316', 100, 'ACTIVE', 1, 1, '', '', 200 )\n",
      "INSERT INTO RADAR(RADAR_INDEX, ELNOT, NICK_NAME, PRIORITY, STATUS, ACCEPTED, PRIMARY_PLATFORM, DATE_LAST_UPDATED, DATE_LAST_REVIEWED, TIME_INACTIVATED) VALUES ( 317, 'X038A', '레이더_317', 100, 'ACTIVE', 1, 1, '', '', 200 )\n",
      "INSERT INTO RADAR(RADAR_INDEX, ELNOT, NICK_NAME, PRIORITY, STATUS, ACCEPTED, PRIMARY_PLATFORM, DATE_LAST_UPDATED, DATE_LAST_REVIEWED, TIME_INACTIVATED) VALUES ( 318, 'X039A', '레이더_318', 100, 'ACTIVE', 1, 1, '', '', 200 )\n",
      "INSERT INTO RADAR(RADAR_INDEX, ELNOT, NICK_NAME, PRIORITY, STATUS, ACCEPTED, PRIMARY_PLATFORM, DATE_LAST_UPDATED, DATE_LAST_REVIEWED, TIME_INACTIVATED) VALUES ( 319, 'X040A', '레이더_319', 100, 'ACTIVE', 1, 1, '', '', 200 )\n",
      "INSERT INTO RADAR(RADAR_INDEX, ELNOT, NICK_NAME, PRIORITY, STATUS, ACCEPTED, PRIMARY_PLATFORM, DATE_LAST_UPDATED, DATE_LAST_REVIEWED, TIME_INACTIVATED) VALUES ( 320, 'X041A', '레이더_320', 100, 'ACTIVE', 1, 1, '', '', 200 )\n",
      "INSERT INTO RADAR(RADAR_INDEX, ELNOT, NICK_NAME, PRIORITY, STATUS, ACCEPTED, PRIMARY_PLATFORM, DATE_LAST_UPDATED, DATE_LAST_REVIEWED, TIME_INACTIVATED) VALUES ( 321, 'X042A', '레이더_321', 100, 'ACTIVE', 1, 1, '', '', 200 )\n",
      "INSERT INTO RADAR(RADAR_INDEX, ELNOT, NICK_NAME, PRIORITY, STATUS, ACCEPTED, PRIMARY_PLATFORM, DATE_LAST_UPDATED, DATE_LAST_REVIEWED, TIME_INACTIVATED) VALUES ( 322, 'X043A', '레이더_322', 100, 'ACTIVE', 1, 1, '', '', 200 )\n",
      "INSERT INTO RADAR(RADAR_INDEX, ELNOT, NICK_NAME, PRIORITY, STATUS, ACCEPTED, PRIMARY_PLATFORM, DATE_LAST_UPDATED, DATE_LAST_REVIEWED, TIME_INACTIVATED) VALUES ( 323, 'X044A', '레이더_323', 100, 'ACTIVE', 1, 1, '', '', 200 )\n",
      "INSERT INTO RADAR(RADAR_INDEX, ELNOT, NICK_NAME, PRIORITY, STATUS, ACCEPTED, PRIMARY_PLATFORM, DATE_LAST_UPDATED, DATE_LAST_REVIEWED, TIME_INACTIVATED) VALUES ( 324, 'X045A', '레이더_324', 100, 'ACTIVE', 1, 1, '', '', 200 )\n",
      "INSERT INTO RADAR(RADAR_INDEX, ELNOT, NICK_NAME, PRIORITY, STATUS, ACCEPTED, PRIMARY_PLATFORM, DATE_LAST_UPDATED, DATE_LAST_REVIEWED, TIME_INACTIVATED) VALUES ( 325, 'X046A', '레이더_325', 100, 'ACTIVE', 1, 1, '', '', 200 )\n",
      "INSERT INTO RADAR(RADAR_INDEX, ELNOT, NICK_NAME, PRIORITY, STATUS, ACCEPTED, PRIMARY_PLATFORM, DATE_LAST_UPDATED, DATE_LAST_REVIEWED, TIME_INACTIVATED) VALUES ( 326, 'X047A', '레이더_326', 100, 'ACTIVE', 1, 1, '', '', 200 )\n",
      "INSERT INTO RADAR(RADAR_INDEX, ELNOT, NICK_NAME, PRIORITY, STATUS, ACCEPTED, PRIMARY_PLATFORM, DATE_LAST_UPDATED, DATE_LAST_REVIEWED, TIME_INACTIVATED) VALUES ( 327, 'X048A', '레이더_327', 100, 'ACTIVE', 1, 1, '', '', 200 )\n",
      "INSERT INTO RADAR(RADAR_INDEX, ELNOT, NICK_NAME, PRIORITY, STATUS, ACCEPTED, PRIMARY_PLATFORM, DATE_LAST_UPDATED, DATE_LAST_REVIEWED, TIME_INACTIVATED) VALUES ( 328, 'X049A', '레이더_328', 100, 'ACTIVE', 1, 1, '', '', 200 )\n",
      "INSERT INTO RADAR(RADAR_INDEX, ELNOT, NICK_NAME, PRIORITY, STATUS, ACCEPTED, PRIMARY_PLATFORM, DATE_LAST_UPDATED, DATE_LAST_REVIEWED, TIME_INACTIVATED) VALUES ( 329, 'X050A', '레이더_329', 100, 'ACTIVE', 1, 1, '', '', 200 )\n",
      "INSERT INTO RADAR(RADAR_INDEX, ELNOT, NICK_NAME, PRIORITY, STATUS, ACCEPTED, PRIMARY_PLATFORM, DATE_LAST_UPDATED, DATE_LAST_REVIEWED, TIME_INACTIVATED) VALUES ( 330, 'X051A', '레이더_330', 100, 'ACTIVE', 1, 1, '', '', 200 )\n",
      "INSERT INTO RADAR(RADAR_INDEX, ELNOT, NICK_NAME, PRIORITY, STATUS, ACCEPTED, PRIMARY_PLATFORM, DATE_LAST_UPDATED, DATE_LAST_REVIEWED, TIME_INACTIVATED) VALUES ( 331, 'X052A', '레이더_331', 100, 'ACTIVE', 1, 1, '', '', 200 )\n",
      "INSERT INTO RADAR(RADAR_INDEX, ELNOT, NICK_NAME, PRIORITY, STATUS, ACCEPTED, PRIMARY_PLATFORM, DATE_LAST_UPDATED, DATE_LAST_REVIEWED, TIME_INACTIVATED) VALUES ( 332, 'X053A', '레이더_332', 100, 'ACTIVE', 1, 1, '', '', 200 )\n",
      "INSERT INTO RADAR(RADAR_INDEX, ELNOT, NICK_NAME, PRIORITY, STATUS, ACCEPTED, PRIMARY_PLATFORM, DATE_LAST_UPDATED, DATE_LAST_REVIEWED, TIME_INACTIVATED) VALUES ( 333, 'X054A', '레이더_333', 100, 'ACTIVE', 1, 1, '', '', 200 )\n",
      "INSERT INTO RADAR(RADAR_INDEX, ELNOT, NICK_NAME, PRIORITY, STATUS, ACCEPTED, PRIMARY_PLATFORM, DATE_LAST_UPDATED, DATE_LAST_REVIEWED, TIME_INACTIVATED) VALUES ( 334, 'X055A', '레이더_334', 100, 'ACTIVE', 1, 1, '', '', 200 )\n",
      "INSERT INTO RADAR(RADAR_INDEX, ELNOT, NICK_NAME, PRIORITY, STATUS, ACCEPTED, PRIMARY_PLATFORM, DATE_LAST_UPDATED, DATE_LAST_REVIEWED, TIME_INACTIVATED) VALUES ( 335, 'X056A', '레이더_335', 100, 'ACTIVE', 1, 1, '', '', 200 )\n",
      "INSERT INTO RADARMODE VALUES (2001, '2023-07-21 10:57:34', '', '', '', '', 1, 0.0, 0.0, 0, 17490, 17510, 17500, 17500, 0, 0, 0, 0, 0, 0.0, 1, 450, 550, 500, 500, 0, 0, 0, 0, 0, 0, 0, 0, 200, 0, 0, 0, 0, 0.0, 0.0, 'ZZ', 100, 0, 0, 1 )\n",
      "INSERT INTO RADARMODE VALUES (2002, '2023-07-21 10:57:34', '', '', '', '', 1, 0.0, 0.0, 0, 17490, 17510, 17500, 17500, 0, 0, 0, 0, 0, 0.0, 2, 100, 100, 95, 105, 0, 0, 0, 0, 0, 0, 0, 0, 200, 0, 0, 0, 0, 0.0, 0.0, 'ZZ', 100, 0, 0, 1 )\n",
      "INSERT INTO RADARMODE VALUES (2003, '2023-07-21 10:57:34', '', '', '', '', 1, 0.0, 0.0, 0, 17490, 17510, 17500, 17500, 0, 0, 0, 0, 0, 0.0, 3, 100, 100, 95, 105, 0, 0, 0, 0, 0, 0, 0, 0, 200, 0, 0, 0, 0, 0.0, 0.0, 'ZZ', 100, 0, 0, 1 )\n",
      "INSERT INTO RADARMODE VALUES (2004, '2023-07-21 10:57:34', '', '', '', '', 1, 0.0, 0.0, 0, 17490, 17510, 17500, 17500, 0, 0, 0, 0, 0, 0.0, 4, 100, 100, 95, 105, 0, 0, 0, 0, 0, 0, 0, 0, 200, 0, 0, 0, 0, 0.0, 0.0, 'ZZ', 100, 0, 0, 1 )\n",
      "INSERT INTO RADARMODE VALUES (2005, '2023-07-21 10:57:34', '', '', '', '', 1, 0.0, 0.0, 0, 17490, 17510, 17500, 17500, 0, 0, 0, 0, 0, 0.0, 5, 100, 100, 95, 105, 0, 0, 0, 0, 0, 0, 0, 0, 200, 0, 0, 0, 0, 0.0, 0.0, 'ZZ', 100, 0, 0, 1 )\n",
      "INSERT INTO RADARMODE VALUES (2006, '2023-07-21 10:57:34', '', '', '', '', 1, 0.0, 0.0, 0, 17490, 17510, 17500, 17500, 0, 0, 0, 0, 0, 0.0, 6, 100, 100, 95, 105, 0, 0, 0, 0, 0, 0, 0, 0, 200, 0, 0, 0, 0, 0.0, 0.0, 'ZZ', 100, 0, 0, 1 )\n",
      "INSERT INTO RADARMODE VALUES (2007, '2023-07-21 10:57:34', '', '', '', '', 1, 0.0, 0.0, 0, 17490, 17510, 17500, 17500, 0, 0, 0, 0, 0, 0.0, 7, 100, 100, 95, 105, 0, 0, 0, 0, 0, 0, 0, 0, 200, 0, 0, 0, 0, 0.0, 0.0, 'ZZ', 100, 0, 0, 1 )\n",
      "INSERT INTO RADARMODE VALUES (2008, '2023-07-21 10:57:34', '', '', '', '', 1, 0.0, 0.0, 0, 17490, 17510, 17500, 17500, 0, 0, 0, 0, 0, 0.0, 8, 100, 100, 95, 105, 0, 0, 0, 0, 0, 0, 0, 0, 200, 0, 0, 0, 0, 0.0, 0.0, 'ZZ', 100, 0, 0, 1 )\n",
      "INSERT INTO RADARMODE VALUES (2009, '2023-07-21 10:57:34', '', '', '', '', 1, 0.0, 0.0, 1, 1000, 2000, 1500, 1500, 0, 32, 0, 0, 0, 0.0, 1, 450, 550, 500, 500, 0, 0, 0, 0, 0, 0, 0, 0, 200, 0, 0, 0, 0, 0.0, 0.0, 'ZZ', 100, 0, 0, 1 )\n",
      "INSERT INTO RADARMODE VALUES (2010, '2023-07-21 10:57:34', '', '', '', '', 1, 0.0, 0.0, 1, 1000, 2000, 1500, 1500, 0, 32, 0, 0, 0, 0.0, 2, 100, 100, 95, 105, 0, 0, 0, 0, 0, 0, 0, 0, 200, 0, 0, 0, 0, 0.0, 0.0, 'ZZ', 100, 0, 0, 1 )\n",
      "INSERT INTO RADARMODE VALUES (2011, '2023-07-21 10:57:34', '', '', '', '', 1, 0.0, 0.0, 1, 1000, 2000, 1500, 1500, 0, 32, 0, 0, 0, 0.0, 3, 100, 100, 95, 105, 0, 0, 0, 0, 0, 0, 0, 0, 200, 0, 0, 0, 0, 0.0, 0.0, 'ZZ', 100, 0, 0, 1 )\n",
      "INSERT INTO RADARMODE VALUES (2012, '2023-07-21 10:57:34', '', '', '', '', 1, 0.0, 0.0, 1, 1000, 2000, 1500, 1500, 0, 32, 0, 0, 0, 0.0, 4, 100, 100, 95, 105, 0, 0, 0, 0, 0, 0, 0, 0, 200, 0, 0, 0, 0, 0.0, 0.0, 'ZZ', 100, 0, 0, 1 )\n",
      "INSERT INTO RADARMODE VALUES (2013, '2023-07-21 10:57:34', '', '', '', '', 1, 0.0, 0.0, 1, 1000, 2000, 1500, 1500, 0, 32, 0, 0, 0, 0.0, 5, 100, 100, 95, 105, 0, 0, 0, 0, 0, 0, 0, 0, 200, 0, 0, 0, 0, 0.0, 0.0, 'ZZ', 100, 0, 0, 1 )\n",
      "INSERT INTO RADARMODE VALUES (2014, '2023-07-21 10:57:34', '', '', '', '', 1, 0.0, 0.0, 1, 1000, 2000, 1500, 1500, 0, 32, 0, 0, 0, 0.0, 6, 100, 100, 95, 105, 0, 0, 0, 0, 0, 0, 0, 0, 200, 0, 0, 0, 0, 0.0, 0.0, 'ZZ', 100, 0, 0, 1 )\n",
      "INSERT INTO RADARMODE VALUES (2015, '2023-07-21 10:57:34', '', '', '', '', 1, 0.0, 0.0, 1, 1000, 2000, 1500, 1500, 0, 32, 0, 0, 0, 0.0, 7, 100, 100, 95, 105, 0, 0, 0, 0, 0, 0, 0, 0, 200, 0, 0, 0, 0, 0.0, 0.0, 'ZZ', 100, 0, 0, 1 )\n",
      "INSERT INTO RADARMODE VALUES (2016, '2023-07-21 10:57:34', '', '', '', '', 1, 0.0, 0.0, 1, 1000, 2000, 1500, 1500, 0, 32, 0, 0, 0, 0.0, 8, 100, 100, 95, 105, 0, 0, 0, 0, 0, 0, 0, 0, 200, 0, 0, 0, 0, 0.0, 0.0, 'ZZ', 100, 0, 0, 1 )\n",
      "INSERT INTO RADARMODE VALUES (2017, '2023-07-21 10:57:34', '', '', '', '', 1, 0.0, 0.0, 2, 500, 18000, 7500, 7500, 0, 0, 0, 0, 0, 0.0, 1, 450, 550, 500, 500, 0, 0, 0, 0, 0, 0, 0, 0, 200, 0, 0, 0, 0, 0.0, 0.0, 'ZZ', 100, 0, 0, 1 )\n",
      "INSERT INTO RADARMODE VALUES (2018, '2023-07-21 10:57:34', '', '', '', '', 1, 0.0, 0.0, 2, 500, 18000, 7500, 7500, 0, 0, 0, 0, 0, 0.0, 2, 100, 100, 95, 105, 0, 0, 0, 0, 0, 0, 0, 0, 200, 0, 0, 0, 0, 0.0, 0.0, 'ZZ', 100, 0, 0, 1 )\n",
      "INSERT INTO RADARMODE VALUES (2019, '2023-07-21 10:57:34', '', '', '', '', 1, 0.0, 0.0, 2, 500, 18000, 7500, 7500, 0, 0, 0, 0, 0, 0.0, 3, 100, 100, 95, 105, 0, 0, 0, 0, 0, 0, 0, 0, 200, 0, 0, 0, 0, 0.0, 0.0, 'ZZ', 100, 0, 0, 1 )\n",
      "INSERT INTO RADARMODE VALUES (2020, '2023-07-21 10:57:34', '', '', '', '', 1, 0.0, 0.0, 2, 500, 18000, 7500, 7500, 0, 0, 0, 0, 0, 0.0, 4, 100, 100, 95, 105, 0, 0, 0, 0, 0, 0, 0, 0, 200, 0, 0, 0, 0, 0.0, 0.0, 'ZZ', 100, 0, 0, 1 )\n",
      "INSERT INTO RADARMODE VALUES (2021, '2023-07-21 10:57:34', '', '', '', '', 1, 0.0, 0.0, 2, 500, 18000, 7500, 7500, 0, 0, 0, 0, 0, 0.0, 5, 100, 100, 95, 105, 0, 0, 0, 0, 0, 0, 0, 0, 200, 0, 0, 0, 0, 0.0, 0.0, 'ZZ', 100, 0, 0, 1 )\n",
      "INSERT INTO RADARMODE VALUES (2022, '2023-07-21 10:57:34', '', '', '', '', 1, 0.0, 0.0, 2, 500, 18000, 7500, 7500, 0, 0, 0, 0, 0, 0.0, 6, 100, 100, 95, 105, 0, 0, 0, 0, 0, 0, 0, 0, 200, 0, 0, 0, 0, 0.0, 0.0, 'ZZ', 100, 0, 0, 1 )\n",
      "INSERT INTO RADARMODE VALUES (2023, '2023-07-21 10:57:34', '', '', '', '', 1, 0.0, 0.0, 2, 500, 18000, 7500, 7500, 0, 0, 0, 0, 0, 0.0, 7, 100, 100, 95, 105, 0, 0, 0, 0, 0, 0, 0, 0, 200, 0, 0, 0, 0, 0.0, 0.0, 'ZZ', 100, 0, 0, 1 )\n",
      "INSERT INTO RADARMODE VALUES (2024, '2023-07-21 10:57:34', '', '', '', '', 1, 0.0, 0.0, 2, 500, 18000, 7500, 7500, 0, 0, 0, 0, 0, 0.0, 8, 100, 100, 95, 105, 0, 0, 0, 0, 0, 0, 0, 0, 200, 0, 0, 0, 0, 0.0, 0.0, 'ZZ', 100, 0, 0, 1 )\n",
      "INSERT INTO RADARMODE VALUES (2025, '2023-07-21 10:57:34', '', '', '', '', 1, 0.0, 0.0, 3, 500, 18000, 7500, 7500, 0, 0, 0, 0, 0, 0.0, 1, 450, 550, 500, 500, 0, 0, 0, 0, 0, 0, 0, 0, 200, 0, 0, 0, 0, 0.0, 0.0, 'ZZ', 100, 0, 0, 1 )\n",
      "INSERT INTO RADARMODE VALUES (2026, '2023-07-21 10:57:34', '', '', '', '', 1, 0.0, 0.0, 3, 500, 18000, 7500, 7500, 0, 0, 0, 0, 0, 0.0, 2, 100, 100, 95, 105, 0, 0, 0, 0, 0, 0, 0, 0, 200, 0, 0, 0, 0, 0.0, 0.0, 'ZZ', 100, 0, 0, 1 )\n",
      "INSERT INTO RADARMODE VALUES (2027, '2023-07-21 10:57:34', '', '', '', '', 1, 0.0, 0.0, 3, 500, 18000, 7500, 7500, 0, 0, 0, 0, 0, 0.0, 3, 100, 100, 95, 105, 0, 0, 0, 0, 0, 0, 0, 0, 200, 0, 0, 0, 0, 0.0, 0.0, 'ZZ', 100, 0, 0, 1 )\n",
      "INSERT INTO RADARMODE VALUES (2028, '2023-07-21 10:57:34', '', '', '', '', 1, 0.0, 0.0, 3, 500, 18000, 7500, 7500, 0, 0, 0, 0, 0, 0.0, 4, 100, 100, 95, 105, 0, 0, 0, 0, 0, 0, 0, 0, 200, 0, 0, 0, 0, 0.0, 0.0, 'ZZ', 100, 0, 0, 1 )\n",
      "INSERT INTO RADARMODE VALUES (2029, '2023-07-21 10:57:34', '', '', '', '', 1, 0.0, 0.0, 3, 500, 18000, 7500, 7500, 0, 0, 0, 0, 0, 0.0, 5, 100, 100, 95, 105, 0, 0, 0, 0, 0, 0, 0, 0, 200, 0, 0, 0, 0, 0.0, 0.0, 'ZZ', 100, 0, 0, 1 )\n",
      "INSERT INTO RADARMODE VALUES (2030, '2023-07-21 10:57:34', '', '', '', '', 1, 0.0, 0.0, 3, 500, 18000, 7500, 7500, 0, 0, 0, 0, 0, 0.0, 6, 100, 100, 95, 105, 0, 0, 0, 0, 0, 0, 0, 0, 200, 0, 0, 0, 0, 0.0, 0.0, 'ZZ', 100, 0, 0, 1 )\n",
      "INSERT INTO RADARMODE VALUES (2031, '2023-07-21 10:57:34', '', '', '', '', 1, 0.0, 0.0, 3, 500, 18000, 7500, 7500, 0, 0, 0, 0, 0, 0.0, 7, 100, 100, 95, 105, 0, 0, 0, 0, 0, 0, 0, 0, 200, 0, 0, 0, 0, 0.0, 0.0, 'ZZ', 100, 0, 0, 1 )\n",
      "INSERT INTO RADARMODE VALUES (2032, '2023-07-21 10:57:34', '', '', '', '', 1, 0.0, 0.0, 3, 500, 18000, 7500, 7500, 0, 0, 0, 0, 0, 0.0, 8, 100, 100, 95, 105, 0, 0, 0, 0, 0, 0, 0, 0, 200, 0, 0, 0, 0, 0.0, 0.0, 'ZZ', 100, 0, 0, 1 )\n",
      "INSERT INTO RADARMODE VALUES (2033, '2023-07-21 10:57:34', '', '', '', '', 1, 0.0, 0.0, 3, 500, 18000, 7500, 7500, 0, 0, 0, 0, 0, 0.0, 1, 450, 550, 500, 500, 0, 0, 0, 0, 0, 0, 0, 0, 200, 0, 0, 0, 0, 0.0, 0.0, 'ZZ', 100, 0, 0, 1 )\n",
      "INSERT INTO RADARMODE VALUES (2034, '2023-07-21 10:57:34', '', '', '', '', 1, 0.0, 0.0, 3, 500, 18000, 7500, 7500, 0, 0, 0, 0, 0, 0.0, 2, 100, 100, 95, 105, 0, 0, 0, 0, 0, 0, 0, 0, 200, 0, 0, 0, 0, 0.0, 0.0, 'ZZ', 100, 0, 0, 1 )\n",
      "INSERT INTO RADARMODE VALUES (2035, '2023-07-21 10:57:34', '', '', '', '', 1, 0.0, 0.0, 3, 500, 18000, 7500, 7500, 0, 0, 0, 0, 0, 0.0, 3, 100, 100, 95, 105, 0, 0, 0, 0, 0, 0, 0, 0, 200, 0, 0, 0, 0, 0.0, 0.0, 'ZZ', 100, 0, 0, 1 )\n",
      "INSERT INTO RADARMODE VALUES (2036, '2023-07-21 10:57:34', '', '', '', '', 1, 0.0, 0.0, 3, 500, 18000, 7500, 7500, 0, 0, 0, 0, 0, 0.0, 4, 100, 100, 95, 105, 0, 0, 0, 0, 0, 0, 0, 0, 200, 0, 0, 0, 0, 0.0, 0.0, 'ZZ', 100, 0, 0, 1 )\n",
      "INSERT INTO RADARMODE VALUES (2037, '2023-07-21 10:57:34', '', '', '', '', 1, 0.0, 0.0, 3, 500, 18000, 7500, 7500, 0, 0, 0, 0, 0, 0.0, 5, 100, 100, 95, 105, 0, 0, 0, 0, 0, 0, 0, 0, 200, 0, 0, 0, 0, 0.0, 0.0, 'ZZ', 100, 0, 0, 1 )\n",
      "INSERT INTO RADARMODE VALUES (2038, '2023-07-21 10:57:34', '', '', '', '', 1, 0.0, 0.0, 3, 500, 18000, 7500, 7500, 0, 0, 0, 0, 0, 0.0, 6, 100, 100, 95, 105, 0, 0, 0, 0, 0, 0, 0, 0, 200, 0, 0, 0, 0, 0.0, 0.0, 'ZZ', 100, 0, 0, 1 )\n",
      "INSERT INTO RADARMODE VALUES (2039, '2023-07-21 10:57:34', '', '', '', '', 1, 0.0, 0.0, 3, 500, 18000, 7500, 7500, 0, 0, 0, 0, 0, 0.0, 7, 100, 100, 95, 105, 0, 0, 0, 0, 0, 0, 0, 0, 200, 0, 0, 0, 0, 0.0, 0.0, 'ZZ', 100, 0, 0, 1 )\n",
      "INSERT INTO RADARMODE VALUES (2040, '2023-07-21 10:57:34', '', '', '', '', 1, 0.0, 0.0, 3, 500, 18000, 7500, 7500, 0, 0, 0, 0, 0, 0.0, 8, 100, 100, 95, 105, 0, 0, 0, 0, 0, 0, 0, 0, 200, 0, 0, 0, 0, 0.0, 0.0, 'ZZ', 100, 0, 0, 1 )\n",
      "INSERT INTO RADARMODE VALUES (2041, '2023-07-21 10:57:34', '', '', '', '', 1, 0.0, 0.0, 3, 500, 18000, 7500, 7500, 0, 0, 0, 0, 0, 0.0, 1, 450, 550, 500, 500, 0, 0, 0, 0, 0, 0, 0, 0, 200, 0, 0, 0, 0, 0.0, 0.0, 'ZZ', 100, 0, 0, 1 )\n",
      "INSERT INTO RADARMODE VALUES (2042, '2023-07-21 10:57:34', '', '', '', '', 1, 0.0, 0.0, 3, 500, 18000, 7500, 7500, 0, 0, 0, 0, 0, 0.0, 2, 100, 100, 95, 105, 0, 0, 0, 0, 0, 0, 0, 0, 200, 0, 0, 0, 0, 0.0, 0.0, 'ZZ', 100, 0, 0, 1 )\n",
      "INSERT INTO RADARMODE VALUES (2043, '2023-07-21 10:57:34', '', '', '', '', 1, 0.0, 0.0, 3, 500, 18000, 7500, 7500, 0, 0, 0, 0, 0, 0.0, 3, 100, 100, 95, 105, 0, 0, 0, 0, 0, 0, 0, 0, 200, 0, 0, 0, 0, 0.0, 0.0, 'ZZ', 100, 0, 0, 1 )\n",
      "INSERT INTO RADARMODE VALUES (2044, '2023-07-21 10:57:34', '', '', '', '', 1, 0.0, 0.0, 3, 500, 18000, 7500, 7500, 0, 0, 0, 0, 0, 0.0, 4, 100, 100, 95, 105, 0, 0, 0, 0, 0, 0, 0, 0, 200, 0, 0, 0, 0, 0.0, 0.0, 'ZZ', 100, 0, 0, 1 )\n",
      "INSERT INTO RADARMODE VALUES (2045, '2023-07-21 10:57:34', '', '', '', '', 1, 0.0, 0.0, 3, 500, 18000, 7500, 7500, 0, 0, 0, 0, 0, 0.0, 5, 100, 100, 95, 105, 0, 0, 0, 0, 0, 0, 0, 0, 200, 0, 0, 0, 0, 0.0, 0.0, 'ZZ', 100, 0, 0, 1 )\n",
      "INSERT INTO RADARMODE VALUES (2046, '2023-07-21 10:57:34', '', '', '', '', 1, 0.0, 0.0, 3, 500, 18000, 7500, 7500, 0, 0, 0, 0, 0, 0.0, 6, 100, 100, 95, 105, 0, 0, 0, 0, 0, 0, 0, 0, 200, 0, 0, 0, 0, 0.0, 0.0, 'ZZ', 100, 0, 0, 1 )\n",
      "INSERT INTO RADARMODE VALUES (2047, '2023-07-21 10:57:34', '', '', '', '', 1, 0.0, 0.0, 3, 500, 18000, 7500, 7500, 0, 0, 0, 0, 0, 0.0, 7, 100, 100, 95, 105, 0, 0, 0, 0, 0, 0, 0, 0, 200, 0, 0, 0, 0, 0.0, 0.0, 'ZZ', 100, 0, 0, 1 )\n",
      "INSERT INTO RADARMODE VALUES (2048, '2023-07-21 10:57:34', '', '', '', '', 1, 0.0, 0.0, 3, 500, 18000, 7500, 7500, 0, 0, 0, 0, 0, 0.0, 8, 100, 100, 95, 105, 0, 0, 0, 0, 0, 0, 0, 0, 200, 0, 0, 0, 0, 0.0, 0.0, 'ZZ', 100, 0, 0, 1 )\n",
      "INSERT INTO RADARMODE VALUES (2049, '2023-07-21 10:57:34', '', '', '', '', 1, 0.0, 0.0, 3, 500, 18000, 7500, 7500, 0, 0, 0, 0, 0, 0.0, 1, 450, 550, 500, 500, 0, 0, 0, 0, 0, 0, 0, 0, 200, 0, 0, 0, 0, 0.0, 0.0, 'ZZ', 100, 0, 0, 1 )\n",
      "INSERT INTO RADARMODE VALUES (2050, '2023-07-21 10:57:34', '', '', '', '', 1, 0.0, 0.0, 3, 500, 18000, 7500, 7500, 0, 0, 0, 0, 0, 0.0, 2, 100, 100, 95, 105, 0, 0, 0, 0, 0, 0, 0, 0, 200, 0, 0, 0, 0, 0.0, 0.0, 'ZZ', 100, 0, 0, 1 )\n",
      "INSERT INTO RADARMODE VALUES (2051, '2023-07-21 10:57:34', '', '', '', '', 1, 0.0, 0.0, 3, 500, 18000, 7500, 7500, 0, 0, 0, 0, 0, 0.0, 3, 100, 100, 95, 105, 0, 0, 0, 0, 0, 0, 0, 0, 200, 0, 0, 0, 0, 0.0, 0.0, 'ZZ', 100, 0, 0, 1 )\n",
      "INSERT INTO RADARMODE VALUES (2052, '2023-07-21 10:57:34', '', '', '', '', 1, 0.0, 0.0, 3, 500, 18000, 7500, 7500, 0, 0, 0, 0, 0, 0.0, 4, 100, 100, 95, 105, 0, 0, 0, 0, 0, 0, 0, 0, 200, 0, 0, 0, 0, 0.0, 0.0, 'ZZ', 100, 0, 0, 1 )\n",
      "INSERT INTO RADARMODE VALUES (2053, '2023-07-21 10:57:34', '', '', '', '', 1, 0.0, 0.0, 3, 500, 18000, 7500, 7500, 0, 0, 0, 0, 0, 0.0, 5, 100, 100, 95, 105, 0, 0, 0, 0, 0, 0, 0, 0, 200, 0, 0, 0, 0, 0.0, 0.0, 'ZZ', 100, 0, 0, 1 )\n",
      "INSERT INTO RADARMODE VALUES (2054, '2023-07-21 10:57:34', '', '', '', '', 1, 0.0, 0.0, 3, 500, 18000, 7500, 7500, 0, 0, 0, 0, 0, 0.0, 6, 100, 100, 95, 105, 0, 0, 0, 0, 0, 0, 0, 0, 200, 0, 0, 0, 0, 0.0, 0.0, 'ZZ', 100, 0, 0, 1 )\n",
      "INSERT INTO RADARMODE VALUES (2055, '2023-07-21 10:57:34', '', '', '', '', 1, 0.0, 0.0, 3, 500, 18000, 7500, 7500, 0, 0, 0, 0, 0, 0.0, 7, 100, 100, 95, 105, 0, 0, 0, 0, 0, 0, 0, 0, 200, 0, 0, 0, 0, 0.0, 0.0, 'ZZ', 100, 0, 0, 1 )\n",
      "INSERT INTO RADARMODE VALUES (2056, '2023-07-21 10:57:34', '', '', '', '', 1, 0.0, 0.0, 3, 500, 18000, 7500, 7500, 0, 0, 0, 0, 0, 0.0, 8, 100, 100, 95, 105, 0, 0, 0, 0, 0, 0, 0, 0, 200, 0, 0, 0, 0, 0.0, 0.0, 'ZZ', 100, 0, 0, 1 )\n"
     ]
    }
   ],
   "source": [
    "\n",
    "fixed_freq = 17500\n",
    "\n",
    "try:\n",
    "    \n",
    "    #cur.execute( sql )    \n",
    "    \n",
    "    # 사용자 레이더 모드 추기\n",
    "    for i in range(1, 7 * 8 + 1 ):\n",
    "        user_index = index + i\n",
    "        user_radarmode_index = radarmode_index + i\n",
    "        \n",
    "        # 레이더 추가\n",
    "        value = f\"X{i:03d}A\"\n",
    "        sql = f\"INSERT INTO RADAR(RADAR_INDEX, ELNOT, NICK_NAME, PRIORITY, STATUS, ACCEPTED, PRIMARY_PLATFORM, DATE_LAST_UPDATED, DATE_LAST_REVIEWED, TIME_INACTIVATED) VALUES ( {user_index+1}, '{value}', '레이더_{user_index+1}', 100, 'ACTIVE', 1, 1, '', '', 200 )\"\n",
    "        #print( sql );\n",
    "        cur.execute( sql )        \n",
    "\n",
    "        # 레이더모드-사이클 정보 저장        \n",
    "        sql = f\"INSERT INTO RADARMODE_LIFECYCLE(RADAR_INDEX, RADARMODE_INDEX, RADARMODE_NAME ) VALUES ({user_index+1}, {user_radarmode_index}, '사용자 레이더모드{i}' )\"\n",
    "        #print( sql )\n",
    "        cur.execute( sql )\n",
    "    \n",
    "    for i in range( 7 ):\n",
    "        for j in range( 1, 9 ):\n",
    "            sql = GenerateRadarModeFREQ( i, radarmode_index+(i*8)+j, nowStr )\n",
    "            sql = GenerateRadarModePRI( j, sql )\n",
    "            #print( sql )\n",
    "            cur.execute( sql )\n",
    "\n",
    "    conn.commit()                \n",
    "\n",
    "except Exception as exception:\n",
    "    print( exception )\n",
    "    print( '에러 발생 !' )"
   ]
  },
  {
   "cell_type": "code",
   "execution_count": 21,
   "id": "8b030bb7-82d9-4aa2-b896-0a4afce380ee",
   "metadata": {},
   "outputs": [
    {
     "name": "stdout",
     "output_type": "stream",
     "text": [
      "INSERT INTO RADARMODE_LIFECYCLE(RADAR_INDEX, RADARMODE_INDEX, RADARMODE_NAME ) VALUES (280, 2001, '사용자 레이더모드' )\n",
      "2000\n",
      "INSERT INTO RADARMODE_LIFECYCLE(RADAR_INDEX, RADARMODE_INDEX, RADARMODE_NAME ) VALUES (279, 2000, 'No Name' )\n"
     ]
    }
   ],
   "source": [
    "try:\n",
    "    # 사용자 레이러 모드 추기\n",
    "    user_index = index + 1\n",
    "    user_radarmode_index = radarmode_index + 1\n",
    "    \n",
    "    # 레이더모드-사이클 정보 저장        \n",
    "    sql = f\"INSERT INTO RADARMODE_LIFECYCLE(RADAR_INDEX, RADARMODE_INDEX, RADARMODE_NAME ) VALUES ({user_index+1}, {user_radarmode_index}, '사용자 레이더모드' )\"\n",
    "    print( sql )\n",
    "    #cur.execute( sql )\n",
    "\n",
    "except Exception as exception:\n",
    "    print( exception )\n",
    "    print( '에러 발생 !' )   \n",
    "\n",
    "print( radarmode_index )\n",
    "\n",
    "sql = f\"INSERT INTO RADARMODE_LIFECYCLE(RADAR_INDEX, RADARMODE_INDEX, RADARMODE_NAME ) VALUES ({index+1}, {radarmode_index}, '{row['RadarMode Name']}' )\"\n",
    "print( sql )\n",
    "#cur.execute( sql )"
   ]
  },
  {
   "cell_type": "markdown",
   "id": "0d33ad49-9ffd-4717-91da-4524f0e2ba1c",
   "metadata": {},
   "source": [
    "# 위협/장비 테이블 삭제"
   ]
  },
  {
   "cell_type": "code",
   "execution_count": 9,
   "id": "d1614526-3e92-4078-8533-e80f9de7abc7",
   "metadata": {},
   "outputs": [
    {
     "name": "stdout",
     "output_type": "stream",
     "text": [
      "현재 시간은 2023-07-21 09:16:53 입니다.\n",
      "\n",
      "\n",
      "===> 테이블을 정상적으로 삭제 했습니다.\n",
      "===> 자동 증가를 초기화 했습니다.\n"
     ]
    }
   ],
   "source": [
    "now = datetime.now()\n",
    "nowStr = now.strftime( '%Y-%m-%d %H:%M:%S' )\n",
    "\n",
    "print( f\"현재 시간은 {nowStr} 입니다.\\n\\n\" )\n",
    "\n",
    "try:\n",
    "    cur.execute( 'delete from DEVICE;' )\n",
    "    cur.execute( 'delete from THREAT;')\n",
    "    \n",
    "    print( \"===> 테이블을 정상적으로 삭제 했습니다.\" )\n",
    "    \n",
    "    \n",
    "    print( \"===> 자동 증가를 초기화 했습니다.\" )\n",
    "\n",
    "    conn.commit()\n",
    "    \n",
    "except Exception as exception:\n",
    "    print( exception )\n",
    "    print( '에러 발생함' )   \n"
   ]
  },
  {
   "cell_type": "markdown",
   "id": "d54dedb1-b8c1-4f07-b5ab-8bb8bfc6412a",
   "metadata": {},
   "source": [
    "# 위협/장비 테이블 생성"
   ]
  },
  {
   "cell_type": "code",
   "execution_count": 10,
   "id": "1cff40c8-b4e5-43b5-b4db-6b7653ece2a5",
   "metadata": {},
   "outputs": [
    {
     "name": "stdout",
     "output_type": "stream",
     "text": [
      "===> 정상적으로 위협/장비 279/279개를 생성했습니다.\n"
     ]
    }
   ],
   "source": [
    "def RandomFloat32( start_value, end_value ):\n",
    "    return random.random() * ( end_value - start_value ) + start_value;\n",
    "\n",
    "try:    \n",
    "    device_index = 1\n",
    "    for index, value in enumerate(elnot_df):\n",
    "        # 위경도 랜던 모의\n",
    "        latitude = RandomFloat32( 38, 39 );\n",
    "        longitude = RandomFloat32( 127, 129 );\n",
    "        #print( latitude, longitude )\n",
    "        \n",
    "        # 위협 정보 저장\n",
    "        sql = f\"INSERT INTO THREAT (THREAT_INDEX, THREAT_NAME, SITE_NAME, PIN, PLACE_NAME_KOR, FRIEND_OR_FOE, PRIORITY, CATEGORY, PLATFORM_TYPE, SYMBOL_CODE ) VALUES ( {index+1}, '위협명 #{index+1}', '지명#{index+1}', '{device_index}', '한국지명', 0, 100, 1, 1, '2525B 심벌' );\";\n",
    "        #print( sql )\n",
    "        cur.execute( sql )\n",
    "             \n",
    "        # 장비 정보 저정\n",
    "        \n",
    "        sql = f\"INSERT INTO DEVICE (THREAT_INDEX, DEVICE_INDEX, ELNOT, DEVICE_NAME, IDENTIFICATION_RANGE, LATITUDE, LONGITUDE, ELEVATION ) VALUES ( {index+1}, {device_index}, '{value}', '장비명 #{index+1}', 10.0, {latitude}, {longitude}, 10.0 );\";\n",
    "        #print( sql )      \n",
    "        cur.execute( sql )\n",
    "        \n",
    "        device_index = device_index + 1\n",
    "      \n",
    "    conn.commit()\n",
    "\n",
    "    print( '===> 정상적으로 위협/장비 {}/{}개를 생성했습니다.'.format( len(elnot_df), len(elnot_df) ) )\n",
    "        \n",
    "except Exception as exception:\n",
    "    print( exception )\n",
    "    print( '에러 발생함' )"
   ]
  },
  {
   "cell_type": "markdown",
   "id": "e3a8970e-bb52-4996-bbeb-8bccff66f56c",
   "metadata": {},
   "source": [
    "# CEDEOB DB 파일 복사"
   ]
  },
  {
   "cell_type": "code",
   "execution_count": 14,
   "id": "4e3e1b20-cfb1-4281-b447-902a47d4e05d",
   "metadata": {},
   "outputs": [
    {
     "name": "stdout",
     "output_type": "stream",
     "text": [
      "\n",
      "(base) E:\\APECS\\Dev\\PocketSONATA\\dev_\\Document\\IPL2CED>echo off \n",
      "\f",
      "        1개 파일이 복사되었습니다.\n",
      "        1개 파일이 복사되었습니다.\n"
     ]
    }
   ],
   "source": [
    "! copySqlite.bat"
   ]
  },
  {
   "cell_type": "code",
   "execution_count": null,
   "id": "ed6b8ac8-87d1-4a22-95b1-0a1eb2af937f",
   "metadata": {},
   "outputs": [],
   "source": []
  },
  {
   "cell_type": "code",
   "execution_count": 12,
   "id": "2bf343dc-fd94-4c6b-b9aa-5efbc45789ed",
   "metadata": {},
   "outputs": [
    {
     "name": "stdout",
     "output_type": "stream",
     "text": [
      "DB 를 종료합니다 !!!\n"
     ]
    }
   ],
   "source": [
    "conn.close()\n",
    "\n",
    "print( \"DB 를 종료합니다 !!!\" )"
   ]
  }
 ],
 "metadata": {
  "kernelspec": {
   "display_name": "Python 3 (ipykernel)",
   "language": "python",
   "name": "python3"
  },
  "language_info": {
   "codemirror_mode": {
    "name": "ipython",
    "version": 3
   },
   "file_extension": ".py",
   "mimetype": "text/x-python",
   "name": "python",
   "nbconvert_exporter": "python",
   "pygments_lexer": "ipython3",
   "version": "3.9.12"
  }
 },
 "nbformat": 4,
 "nbformat_minor": 5
}
